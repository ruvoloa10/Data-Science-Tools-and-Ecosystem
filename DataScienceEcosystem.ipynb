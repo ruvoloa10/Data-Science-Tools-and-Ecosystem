{
 "cells": [
  {
   "cell_type": "markdown",
   "id": "9bacec1f-3844-42c9-b8f3-7aee99c33fcc",
   "metadata": {},
   "source": [
    "# Data Science Tools and Ecosystem"
   ]
  },
  {
   "cell_type": "markdown",
   "id": "145e0e86-98b8-47bd-b39d-c19ca0eac5f8",
   "metadata": {
    "tags": []
   },
   "source": [
    "## Author\n",
    "Alex Ruvolo"
   ]
  },
  {
   "cell_type": "markdown",
   "id": "7d926a9a-a6e4-4d90-917b-eeaf6253cc3c",
   "metadata": {},
   "source": [
    "In this notebook, Data Science Tools and Ecosystem are summarized. "
   ]
  },
  {
   "cell_type": "markdown",
   "id": "f7aeb54f-2486-4b1b-b6a9-e25a5d7441a6",
   "metadata": {},
   "source": [
    "**Objectives:**\n",
    "- List popular languages of data science\n",
    "- List commonly used libraries of data science\n",
    "- Make a table of data science tools\n",
    "- Show examples of arithmetic expressions"
   ]
  },
  {
   "cell_type": "markdown",
   "id": "6030a467-4378-4b0f-9b95-49f5b8121af0",
   "metadata": {},
   "source": [
    "Some of the popular languages that Data Scientists use are:\n",
    "1. Java\n",
    "2. C++\n",
    "3. Python\n",
    "4. JavaScript\n",
    "5. Scala\n"
   ]
  },
  {
   "cell_type": "markdown",
   "id": "b5226da8-95c6-4893-bec2-82e66fa680df",
   "metadata": {},
   "source": [
    "Some of the commonly used libraries used by Data Scientists include:\n",
    "1. Pandas\n",
    "2. TensorFlow\n",
    "3. NumPy\n",
    "4. Seaborn\n"
   ]
  },
  {
   "cell_type": "markdown",
   "id": "0a9aea88-bd81-4e31-8132-6db960c368e4",
   "metadata": {},
   "source": [
    "|Data Science Tools|\n",
    "-----------\n",
    "|JupyterLab|\n",
    "|Anaconda|\n",
    "|VisualStudio|"
   ]
  },
  {
   "cell_type": "markdown",
   "id": "33d3d627-aeac-4834-8a62-96382128febd",
   "metadata": {},
   "source": [
    "### Below are a few examples of evaluating arithmetic expressions in Python"
   ]
  },
  {
   "cell_type": "code",
   "execution_count": 2,
   "id": "5f56cbc4-b22a-4e49-b4a3-60a10b4bfd1d",
   "metadata": {
    "tags": []
   },
   "outputs": [
    {
     "data": {
      "text/plain": [
       "17"
      ]
     },
     "execution_count": 2,
     "metadata": {},
     "output_type": "execute_result"
    }
   ],
   "source": [
    "# This is simple arithmetic expression to multiply then add integers\n",
    "(3*4)+5"
   ]
  },
  {
   "cell_type": "code",
   "execution_count": 3,
   "id": "03382b9d-91ca-4a53-8aab-095846283e79",
   "metadata": {
    "tags": []
   },
   "outputs": [
    {
     "data": {
      "text/plain": [
       "3.3333333333333335"
      ]
     },
     "execution_count": 3,
     "metadata": {},
     "output_type": "execute_result"
    }
   ],
   "source": [
    "# This will convert 200 mintutes to hours by dividing by 60\n",
    "200/60"
   ]
  },
  {
   "cell_type": "code",
   "execution_count": null,
   "id": "75eb2d80-fbe0-41b3-812b-a4e34dddb617",
   "metadata": {},
   "outputs": [],
   "source": []
  }
 ],
 "metadata": {
  "kernelspec": {
   "display_name": "Python",
   "language": "python",
   "name": "conda-env-python-py"
  },
  "language_info": {
   "codemirror_mode": {
    "name": "ipython",
    "version": 3
   },
   "file_extension": ".py",
   "mimetype": "text/x-python",
   "name": "python",
   "nbconvert_exporter": "python",
   "pygments_lexer": "ipython3",
   "version": "3.7.12"
  }
 },
 "nbformat": 4,
 "nbformat_minor": 5
}
